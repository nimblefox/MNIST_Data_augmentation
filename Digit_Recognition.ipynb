{
  "nbformat": 4,
  "nbformat_minor": 0,
  "metadata": {
    "colab": {
      "name": "Digit Recognition.ipynb",
      "provenance": [],
      "collapsed_sections": [],
      "authorship_tag": "ABX9TyNoo4V3r0EOfxYdicBfZEW6"
    },
    "kernelspec": {
      "name": "python3",
      "display_name": "Python 3"
    }
  },
  "cells": [
    {
      "cell_type": "code",
      "metadata": {
        "id": "Oxb41nyGc67y",
        "colab": {
          "base_uri": "https://localhost:8080/"
        },
        "outputId": "78f4b5ab-ba79-45ae-b542-1ef8a6c1edb1"
      },
      "source": [
        "# Mounting my google drive to access data files\n",
        "from google.colab import drive\n",
        "drive.mount('/content/gdrive')"
      ],
      "execution_count": null,
      "outputs": [
        {
          "output_type": "stream",
          "text": [
            "Mounted at /content/gdrive\n"
          ],
          "name": "stdout"
        }
      ]
    },
    {
      "cell_type": "code",
      "metadata": {
        "id": "vpcWnRyNdwFe"
      },
      "source": [
        "# Importing Libraries\n",
        "import pandas as pd \n",
        "import numpy as np \n",
        "import matplotlib.pyplot as plt\n",
        "import sklearn \n",
        "pd.set_option('display.max_columns', None)"
      ],
      "execution_count": null,
      "outputs": []
    },
    {
      "cell_type": "code",
      "metadata": {
        "id": "gI5LBKr9dxiQ"
      },
      "source": [
        "# Import Data\n",
        "train = pd.read_csv(\"/content/gdrive/My Drive/Colab Notebooks/Kaggle/Digit recognizer/train.csv\")\n",
        "test = pd.read_csv(\"/content/gdrive/My Drive/Colab Notebooks/Kaggle/Digit recognizer/test.csv\")"
      ],
      "execution_count": null,
      "outputs": []
    },
    {
      "cell_type": "code",
      "metadata": {
        "id": "SUyd5s2dd9rK"
      },
      "source": [
        "# Assigning features to variable X and labels to y\n",
        "X = train.drop(labels=[\"label\"], axis=1)\n",
        "y = train.label"
      ],
      "execution_count": null,
      "outputs": []
    },
    {
      "cell_type": "code",
      "metadata": {
        "id": "aO74zAooBCAX",
        "colab": {
          "base_uri": "https://localhost:8080/",
          "height": 305
        },
        "outputId": "6a4effc6-a6c9-4da6-eeeb-1fc28817428f"
      },
      "source": [
        "# Lets have a look at the first line of data\n",
        "x = X[0:1].values.reshape(-1,28,28,1)\n",
        "plt.imshow(np.reshape(x, (28,28)), cmap=plt.cm.gray)\n",
        "plt.title('Label: %i' %y[0:1], fontsize = 20)"
      ],
      "execution_count": null,
      "outputs": [
        {
          "output_type": "execute_result",
          "data": {
            "text/plain": [
              "Text(0.5, 1.0, 'Label: 1')"
            ]
          },
          "metadata": {
            "tags": []
          },
          "execution_count": 5
        },
        {
          "output_type": "display_data",
          "data": {
            "image/png": "[encoded data removed]",
            "text/plain": [
              "<Figure size 432x288 with 1 Axes>"
            ]
          },
          "metadata": {
            "tags": [],
            "needs_background": "light"
          }
        }
      ]
    },
    {
      "cell_type": "code",
      "metadata": {
        "id": "o3_0QmRejwY3"
      },
      "source": [
        "# lets fit the data for Logistic regression model\n",
        "from sklearn.linear_model import LogisticRegression\n",
        "model = LogisticRegression()\n",
        "model.fit(X,y)"
      ],
      "execution_count": null,
      "outputs": []
    },
    {
      "cell_type": "code",
      "metadata": {
        "id": "HhwF-0q2oYq8"
      },
      "source": [
        "# export predictions as CSV, funtion to predict on testset and save output\n",
        "def save_csv(testset, filename):\n",
        "  sub = model.predict(testset)\n",
        "  sub = pd.DataFrame(sub, columns=['Label'])  #header of prediction will be Label\n",
        "  sub.index = sub.index + 1                   #adding index which starts from 1\n",
        "  sub.index.rename('ImageId', inplace=True)   #header of index column will be ImageId \n",
        "  sub.to_csv(\"/content/gdrive/My Drive/Colab Notebooks/Kaggle/Digit recognizer/\"+filename+\".csv\")"
      ],
      "execution_count": null,
      "outputs": []
    },
    {
      "cell_type": "code",
      "metadata": {
        "id": "PZTsunw7vyk_"
      },
      "source": [
        "save_csv(test, 'logreg')"
      ],
      "execution_count": null,
      "outputs": []
    },
    {
      "cell_type": "markdown",
      "metadata": {
        "id": "GTKcT3-i8KDv"
      },
      "source": [
        "The Kaggle score of this submission was 0.91617 with a Rank 2629"
      ]
    },
    {
      "cell_type": "markdown",
      "metadata": {
        "id": "63qZac6q9hm2"
      },
      "source": [
        "As the previous LBFGS failed to converge, lets try to converge it by scaling the features"
      ]
    },
    {
      "cell_type": "markdown",
      "metadata": {
        "id": "zdjtL8hN2_RA"
      },
      "source": [
        "Lets also try data augmentation and changing lbfgs parameters for convergence\n",
        "\n",
        "1. Shifting\n",
        "2. Rotating\n",
        "3. Shearing\n",
        "4. Cropping"
      ]
    },
    {
      "cell_type": "code",
      "metadata": {
        "id": "zMsE0WwGXkhB",
        "colab": {
          "base_uri": "https://localhost:8080/"
        },
        "outputId": "d95a7f62-aafe-427d-e963-cd97de4705d7"
      },
      "source": [
        "# Scaling the features, fit and predict again\n",
        "from sklearn.preprocessing import MinMaxScaler\n",
        "scaler = MinMaxScaler()\n",
        "scaler.fit(X)\n",
        "X_scaled = scaler.transform(X)\n",
        "test_scaled = scaler.transform(test)\n",
        "LR.fit(X_scaled,y)\n",
        "save_csv(test_scaled, 'logreg_scaled')"
      ],
      "execution_count": null,
      "outputs": [
        {
          "output_type": "stream",
          "text": [
            "/usr/local/lib/python3.6/dist-packages/sklearn/linear_model/_logistic.py:940: ConvergenceWarning: lbfgs failed to converge (status=1):\n",
            "STOP: TOTAL NO. of ITERATIONS REACHED LIMIT.\n",
            "\n",
            "Increase the number of iterations (max_iter) or scale the data as shown in:\n",
            "    https://scikit-learn.org/stable/modules/preprocessing.html\n",
            "Please also refer to the documentation for alternative solver options:\n",
            "    https://scikit-learn.org/stable/modules/linear_model.html#logistic-regression\n",
            "  extra_warning_msg=_LOGISTIC_SOLVER_CONVERGENCE_MSG)\n"
          ],
          "name": "stderr"
        }
      ]
    },
    {
      "cell_type": "markdown",
      "metadata": {
        "id": "Hqmn3atkcVXA"
      },
      "source": [
        "Score after scaling is 0.91889, slight improvement. 0.0027 to be exact\n",
        "\n",
        "Now on to augmentation"
      ]
    },
    {
      "cell_type": "code",
      "metadata": {
        "id": "Gt-Sxb2GZ401"
      },
      "source": [
        "# Augmenting with Keras, as Keras only takes in 4D array, reshaping my array so..\n",
        "X = X.values.reshape(-1,28,28,1)\n",
        "\n",
        "from keras_preprocessing.image import ImageDataGenerator\n",
        "datagen = ImageDataGenerator(  \n",
        "        rotation_range=10,    \n",
        "        zoom_range = 0.1,  \n",
        "        width_shift_range=0.1,  \n",
        "        height_shift_range=0.1,\n",
        "        shear_range=0.1  \n",
        "        )  \n",
        "\n",
        "# instead of .fit; .flow can be used to generate and save data\n",
        "\n",
        "augmented_data = []\n",
        "augmented_labels = []\n",
        "num_augmented = 0\n",
        "batch = 1  # for 42000*1 = 84k entries\n",
        "for X_batch, y_batch in datagen.flow(X, y, batch_size=batch, shuffle=False):  \n",
        "    augmented_data.append(X_batch)\n",
        "    augmented_labels.append(y_batch)\n",
        "    num_augmented += 1\n",
        "    if num_augmented == X.shape[0]:\n",
        "        break\n",
        "augmented_data = np.concatenate(augmented_data) \n",
        "augmented_labels = np.concatenate(augmented_labels)"
      ],
      "execution_count": null,
      "outputs": []
    },
    {
      "cell_type": "code",
      "metadata": {
        "id": "wkDiIsYGY3o2"
      },
      "source": [
        "augmented_data_reshaped = augmented_data.reshape(42000, 784)\n",
        "augmented_dataframe = pd.DataFrame(augmented_data_reshaped)\n",
        "header = list(test.columns.values)\n",
        "augmented_dataframe.columns = header\n",
        "augmented_dataframe.insert(0, \"label\", augmented_labels)\n",
        "augmented_dataframe.to_csv(\"/content/gdrive/My Drive/Colab Notebooks/Kaggle/Digit recognizer/train_augmented.csv\", index=False)"
      ],
      "execution_count": null,
      "outputs": []
    },
    {
      "cell_type": "markdown",
      "metadata": {
        "id": "KR7_-_-ldEYT"
      },
      "source": [
        "After a day of tinkering with `ImageDataGenerator` I was able to generate and save an augmented_dataframe, now I will be merging it with original train dataset which will give me 84000 rows  "
      ]
    },
    {
      "cell_type": "code",
      "metadata": {
        "id": "ILqtwH-zgPS7"
      },
      "source": [
        "X = augmented_dataframe.drop(labels=[\"label\"], axis=1)\n",
        "y = augmented_dataframe.label"
      ],
      "execution_count": null,
      "outputs": []
    },
    {
      "cell_type": "code",
      "metadata": {
        "id": "jfmksrAMlfsP",
        "colab": {
          "base_uri": "https://localhost:8080/",
          "height": 305
        },
        "outputId": "4ff630c2-f8ca-4d32-ae9e-0533bf3d6dc9"
      },
      "source": [
        "# Lets have a look at the first line of data\n",
        "x = X[0:1].values.reshape(-1,28,28,1)\n",
        "plt.imshow(np.reshape(x, (28,28)), cmap=plt.cm.gray)\n",
        "plt.title('Label: %i' %y[0:1], fontsize = 20)"
      ],
      "execution_count": null,
      "outputs": [
        {
          "output_type": "execute_result",
          "data": {
            "text/plain": [
              "Text(0.5, 1.0, 'Label: 1')"
            ]
          },
          "metadata": {
            "tags": []
          },
          "execution_count": 17
        },
        {
          "output_type": "display_data",
          "data": {
            "image/png": "[encoded data removed]",
            "text/plain": [
              "<Figure size 432x288 with 1 Axes>"
            ]
          },
          "metadata": {
            "tags": [],
            "needs_background": "light"
          }
        }
      ]
    },
    {
      "cell_type": "markdown",
      "metadata": {
        "id": "_FvXrrIOnzC5"
      },
      "source": [
        "Compared to above image, this one has rotated a bit and lost its pixel values. As this result is random it looks different on each execution"
      ]
    },
    {
      "cell_type": "code",
      "metadata": {
        "id": "Wm6S22Rio2Wx"
      },
      "source": [
        "# combining origial data with augmented data\n",
        "data = [train, augmented_dataframe]\n",
        "fulldata = pd.concat(data, ignore_index=True)\n",
        "\n",
        "X = fulldata.drop(labels=[\"label\"], axis=1)\n",
        "y = fulldata.label"
      ],
      "execution_count": null,
      "outputs": []
    },
    {
      "cell_type": "code",
      "metadata": {
        "id": "eq8BkGxZnoi-",
        "colab": {
          "base_uri": "https://localhost:8080/"
        },
        "outputId": "f39e7cfe-6f33-472d-d043-388af619a7b3"
      },
      "source": [
        "# lets fit the data for Logistic regression \n",
        "LR = LogisticRegression()\n",
        "scaler.fit(X)\n",
        "X_scaled = scaler.transform(X)\n",
        "test_scaled = scaler.transform(test)\n",
        "LR.fit(X_scaled,y)\n",
        "save_csv(test_scaled, 'logreg_augmented')"
      ],
      "execution_count": null,
      "outputs": [
        {
          "output_type": "stream",
          "text": [
            "/usr/local/lib/python3.6/dist-packages/sklearn/linear_model/_logistic.py:940: ConvergenceWarning: lbfgs failed to converge (status=1):\n",
            "STOP: TOTAL NO. of ITERATIONS REACHED LIMIT.\n",
            "\n",
            "Increase the number of iterations (max_iter) or scale the data as shown in:\n",
            "    https://scikit-learn.org/stable/modules/preprocessing.html\n",
            "Please also refer to the documentation for alternative solver options:\n",
            "    https://scikit-learn.org/stable/modules/linear_model.html#logistic-regression\n",
            "  extra_warning_msg=_LOGISTIC_SOLVER_CONVERGENCE_MSG)\n"
          ],
          "name": "stderr"
        }
      ]
    },
    {
      "cell_type": "markdown",
      "metadata": {
        "id": "lAI5KQ_Mq6dn"
      },
      "source": [
        "Model score deteriorated to 0.89435, enough with logistic regression hmph..\n",
        "\n",
        "Lets try Random forest classifier"
      ]
    },
    {
      "cell_type": "code",
      "metadata": {
        "id": "EzLf152YCxTj"
      },
      "source": [
        "from sklearn.ensemble import RandomForestClassifier\n",
        "model = RandomForestClassifier()\n",
        "#model.fit(X, y)\n",
        "#save_csv(test, 'RForest')"
      ],
      "execution_count": null,
      "outputs": []
    },
    {
      "cell_type": "markdown",
      "metadata": {
        "id": "Hv4LdKtiInI9"
      },
      "source": [
        "Score was 0.9656 without scaling and augmenting, lets see what scaling and augmenting does"
      ]
    },
    {
      "cell_type": "code",
      "metadata": {
        "id": "8y50pIb5GnLT"
      },
      "source": [
        "augmented_dataframe = pd.read_csv('/content/gdrive/My Drive/Colab Notebooks/Kaggle/Digit recognizer/train_augmented.csv')\n",
        "data = [train, augmented_dataframe]\n",
        "fulldata = pd.concat(data, ignore_index=True)\n",
        "\n",
        "X = fulldata.drop(labels=[\"label\"], axis=1)\n",
        "y = fulldata.label"
      ],
      "execution_count": null,
      "outputs": []
    },
    {
      "cell_type": "code",
      "metadata": {
        "id": "-xqrAYLWXbsF"
      },
      "source": [
        "from sklearn.preprocessing import MinMaxScaler\n",
        "scaler = MinMaxScaler()\n",
        "scaler.fit(X)\n",
        "X_scaled = scaler.transform(X)\n",
        "test_scaled = scaler.transform(test)"
      ],
      "execution_count": null,
      "outputs": []
    },
    {
      "cell_type": "code",
      "metadata": {
        "id": "Tq_tRBbVRMOa"
      },
      "source": [
        "model.fit(X_scaled, y)\n",
        "save_csv(test_scaled, 'RForest_scale_augment')"
      ],
      "execution_count": null,
      "outputs": []
    },
    {
      "cell_type": "markdown",
      "metadata": {
        "id": "-FZq55bsI59b"
      },
      "source": [
        "Score went from 0.9656 to 0.89485 after scaling and augmentation.\n",
        "Clearly augmentation is not improving the score.\n",
        "Next up is Convolutional neural network... someday, when I learn it..."
      ]
    }
  ]
}